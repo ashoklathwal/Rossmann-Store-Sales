{
  "cells": [
    {
      "metadata": {
        "_uuid": "00d66b5858791c6652cbd2db3f6b6a8c6dbd04ee"
      },
      "cell_type": "markdown",
      "source": "**Association Rule Mining**\n\nThe primary aim of association rule mining is to uncover hidden patterns within the data. We've tried to find association between Promo1, Promo2, whether it is a school holiday and the amount of sales on that day."
    },
    {
      "metadata": {
        "_uuid": "959a4b070d227cbcc23157bbfcf782000062fab2",
        "trusted": true,
        "_cell_guid": "622da766-7886-4e6f-ae51-5b7df84945b2"
      },
      "cell_type": "code",
      "source": "library(arules)\nlibrary(arulesViz)\nlibrary(data.table)\nlibrary(zoo)\nlibrary(forecast)\nlibrary(ggplot2)\ntest <- fread(\"../input/test.csv\")\ntrain <- fread(\"../input/train.csv\")\nstore <- fread(\"../input/store.csv\")",
      "execution_count": 352,
      "outputs": []
    },
    {
      "metadata": {
        "_uuid": "fda0d642ccb65310aa17174b097f07a1481b63fe",
        "trusted": true,
        "_cell_guid": "5b4e6146-43c2-4d89-bea2-89035e509a8a",
        "scrolled": true
      },
      "cell_type": "code",
      "source": "str(train)",
      "execution_count": 353,
      "outputs": [
        {
          "output_type": "stream",
          "text": "Classes ‘data.table’ and 'data.frame':\t1017209 obs. of  9 variables:\n $ Store        : int  1 2 3 4 5 6 7 8 9 10 ...\n $ DayOfWeek    : int  5 5 5 5 5 5 5 5 5 5 ...\n $ Date         : chr  \"2015-07-31\" \"2015-07-31\" \"2015-07-31\" \"2015-07-31\" ...\n $ Sales        : int  5263 6064 8314 13995 4822 5651 15344 8492 8565 7185 ...\n $ Customers    : int  555 625 821 1498 559 589 1414 833 687 681 ...\n $ Open         : int  1 1 1 1 1 1 1 1 1 1 ...\n $ Promo        : int  1 1 1 1 1 1 1 1 1 1 ...\n $ StateHoliday : chr  \"0\" \"0\" \"0\" \"0\" ...\n $ SchoolHoliday: chr  \"1\" \"1\" \"1\" \"1\" ...\n - attr(*, \".internal.selfref\")=<externalptr> \n",
          "name": "stdout"
        }
      ]
    },
    {
      "metadata": {
        "_uuid": "e65b70bde49581c81888d5038e1d543eab6c72bf",
        "trusted": true,
        "_cell_guid": "cc4e4bb0-e975-4da6-b4a9-6fff2c1f9129"
      },
      "cell_type": "code",
      "source": "str(store)",
      "execution_count": 354,
      "outputs": [
        {
          "output_type": "stream",
          "text": "Classes ‘data.table’ and 'data.frame':\t1115 obs. of  10 variables:\n $ Store                    : int  1 2 3 4 5 6 7 8 9 10 ...\n $ StoreType                : chr  \"c\" \"a\" \"a\" \"c\" ...\n $ Assortment               : chr  \"a\" \"a\" \"a\" \"c\" ...\n $ CompetitionDistance      : int  1270 570 14130 620 29910 310 24000 7520 2030 3160 ...\n $ CompetitionOpenSinceMonth: int  9 11 12 9 4 12 4 10 8 9 ...\n $ CompetitionOpenSinceYear : int  2008 2007 2006 2009 2015 2013 2013 2014 2000 2009 ...\n $ Promo2                   : int  0 1 1 0 0 0 0 0 0 0 ...\n $ Promo2SinceWeek          : int  NA 13 14 NA NA NA NA NA NA NA ...\n $ Promo2SinceYear          : int  NA 2010 2011 NA NA NA NA NA NA NA ...\n $ PromoInterval            : chr  \"\" \"Jan,Apr,Jul,Oct\" \"Jan,Apr,Jul,Oct\" \"\" ...\n - attr(*, \".internal.selfref\")=<externalptr> \n",
          "name": "stdout"
        }
      ]
    },
    {
      "metadata": {
        "_uuid": "75d081b7ae710035beb01d8a620b96531a19a0e2",
        "trusted": true,
        "_cell_guid": "dacfa076-ab6f-4214-9690-786654a2b24c"
      },
      "cell_type": "code",
      "source": "summary(train)",
      "execution_count": 355,
      "outputs": [
        {
          "output_type": "display_data",
          "data": {
            "text/plain": "     Store          DayOfWeek         Date               Sales      \n Min.   :   1.0   Min.   :1.000   Length:1017209     Min.   :    0  \n 1st Qu.: 280.0   1st Qu.:2.000   Class :character   1st Qu.: 3727  \n Median : 558.0   Median :4.000   Mode  :character   Median : 5744  \n Mean   : 558.4   Mean   :3.998                      Mean   : 5774  \n 3rd Qu.: 838.0   3rd Qu.:6.000                      3rd Qu.: 7856  \n Max.   :1115.0   Max.   :7.000                      Max.   :41551  \n   Customers           Open            Promo        StateHoliday      \n Min.   :   0.0   Min.   :0.0000   Min.   :0.0000   Length:1017209    \n 1st Qu.: 405.0   1st Qu.:1.0000   1st Qu.:0.0000   Class :character  \n Median : 609.0   Median :1.0000   Median :0.0000   Mode  :character  \n Mean   : 633.1   Mean   :0.8301   Mean   :0.3815                     \n 3rd Qu.: 837.0   3rd Qu.:1.0000   3rd Qu.:1.0000                     \n Max.   :7388.0   Max.   :1.0000   Max.   :1.0000                     \n SchoolHoliday     \n Length:1017209    \n Class :character  \n Mode  :character  \n                   \n                   \n                   "
          },
          "metadata": {}
        }
      ]
    },
    {
      "metadata": {
        "_uuid": "a51bdd599e69f30590e8e1c3be7842b5a17e8a95"
      },
      "cell_type": "markdown",
      "source": ""
    },
    {
      "metadata": {
        "_uuid": "e4267439c27450075cbf89a739efd2b52084d3ef"
      },
      "cell_type": "markdown",
      "source": "Merge training table with the store tables based on Store#."
    },
    {
      "metadata": {
        "_uuid": "277aba96d126909ac216019b848ac17e97e34c13",
        "trusted": true,
        "_cell_guid": "de7b036d-940c-4622-84b4-749bba3f0bfc",
        "_kg_hide-input": false
      },
      "cell_type": "code",
      "source": "total <-merge(train, store, by=\"Store\")\nhead(total)",
      "execution_count": 356,
      "outputs": [
        {
          "output_type": "display_data",
          "data": {
            "text/plain": "  Store DayOfWeek Date       Sales Customers Open Promo StateHoliday\n1 1     5         2015-07-31 5263  555       1    1     0           \n2 1     4         2015-07-30 5020  546       1    1     0           \n3 1     3         2015-07-29 4782  523       1    1     0           \n4 1     2         2015-07-28 5011  560       1    1     0           \n5 1     1         2015-07-27 6102  612       1    1     0           \n6 1     7         2015-07-26    0    0       0    0     0           \n  SchoolHoliday StoreType Assortment CompetitionDistance\n1 1             c         a          1270               \n2 1             c         a          1270               \n3 1             c         a          1270               \n4 1             c         a          1270               \n5 1             c         a          1270               \n6 0             c         a          1270               \n  CompetitionOpenSinceMonth CompetitionOpenSinceYear Promo2 Promo2SinceWeek\n1 9                         2008                     0      NA             \n2 9                         2008                     0      NA             \n3 9                         2008                     0      NA             \n4 9                         2008                     0      NA             \n5 9                         2008                     0      NA             \n6 9                         2008                     0      NA             \n  Promo2SinceYear PromoInterval\n1 NA                           \n2 NA                           \n3 NA                           \n4 NA                           \n5 NA                           \n6 NA                           ",
            "text/latex": "\\begin{tabular}{r|llllllllllllllllll}\n Store & DayOfWeek & Date & Sales & Customers & Open & Promo & StateHoliday & SchoolHoliday & StoreType & Assortment & CompetitionDistance & CompetitionOpenSinceMonth & CompetitionOpenSinceYear & Promo2 & Promo2SinceWeek & Promo2SinceYear & PromoInterval\\\\\n\\hline\n\t 1          & 5          & 2015-07-31 & 5263       & 555        & 1          & 1          & 0          & 1          & c          & a          & 1270       & 9          & 2008       & 0          & NA         & NA         &           \\\\\n\t 1          & 4          & 2015-07-30 & 5020       & 546        & 1          & 1          & 0          & 1          & c          & a          & 1270       & 9          & 2008       & 0          & NA         & NA         &           \\\\\n\t 1          & 3          & 2015-07-29 & 4782       & 523        & 1          & 1          & 0          & 1          & c          & a          & 1270       & 9          & 2008       & 0          & NA         & NA         &           \\\\\n\t 1          & 2          & 2015-07-28 & 5011       & 560        & 1          & 1          & 0          & 1          & c          & a          & 1270       & 9          & 2008       & 0          & NA         & NA         &           \\\\\n\t 1          & 1          & 2015-07-27 & 6102       & 612        & 1          & 1          & 0          & 1          & c          & a          & 1270       & 9          & 2008       & 0          & NA         & NA         &           \\\\\n\t 1          & 7          & 2015-07-26 &    0       &   0        & 0          & 0          & 0          & 0          & c          & a          & 1270       & 9          & 2008       & 0          & NA         & NA         &           \\\\\n\\end{tabular}\n",
            "text/markdown": "\nStore | DayOfWeek | Date | Sales | Customers | Open | Promo | StateHoliday | SchoolHoliday | StoreType | Assortment | CompetitionDistance | CompetitionOpenSinceMonth | CompetitionOpenSinceYear | Promo2 | Promo2SinceWeek | Promo2SinceYear | PromoInterval | \n|---|---|---|---|---|---|\n| 1          | 5          | 2015-07-31 | 5263       | 555        | 1          | 1          | 0          | 1          | c          | a          | 1270       | 9          | 2008       | 0          | NA         | NA         |            | \n| 1          | 4          | 2015-07-30 | 5020       | 546        | 1          | 1          | 0          | 1          | c          | a          | 1270       | 9          | 2008       | 0          | NA         | NA         |            | \n| 1          | 3          | 2015-07-29 | 4782       | 523        | 1          | 1          | 0          | 1          | c          | a          | 1270       | 9          | 2008       | 0          | NA         | NA         |            | \n| 1          | 2          | 2015-07-28 | 5011       | 560        | 1          | 1          | 0          | 1          | c          | a          | 1270       | 9          | 2008       | 0          | NA         | NA         |            | \n| 1          | 1          | 2015-07-27 | 6102       | 612        | 1          | 1          | 0          | 1          | c          | a          | 1270       | 9          | 2008       | 0          | NA         | NA         |            | \n| 1          | 7          | 2015-07-26 |    0       |   0        | 0          | 0          | 0          | 0          | c          | a          | 1270       | 9          | 2008       | 0          | NA         | NA         |            | \n\n\n",
            "text/html": "<table>\n<thead><tr><th scope=col>Store</th><th scope=col>DayOfWeek</th><th scope=col>Date</th><th scope=col>Sales</th><th scope=col>Customers</th><th scope=col>Open</th><th scope=col>Promo</th><th scope=col>StateHoliday</th><th scope=col>SchoolHoliday</th><th scope=col>StoreType</th><th scope=col>Assortment</th><th scope=col>CompetitionDistance</th><th scope=col>CompetitionOpenSinceMonth</th><th scope=col>CompetitionOpenSinceYear</th><th scope=col>Promo2</th><th scope=col>Promo2SinceWeek</th><th scope=col>Promo2SinceYear</th><th scope=col>PromoInterval</th></tr></thead>\n<tbody>\n\t<tr><td>1         </td><td>5         </td><td>2015-07-31</td><td>5263      </td><td>555       </td><td>1         </td><td>1         </td><td>0         </td><td>1         </td><td>c         </td><td>a         </td><td>1270      </td><td>9         </td><td>2008      </td><td>0         </td><td>NA        </td><td>NA        </td><td>          </td></tr>\n\t<tr><td>1         </td><td>4         </td><td>2015-07-30</td><td>5020      </td><td>546       </td><td>1         </td><td>1         </td><td>0         </td><td>1         </td><td>c         </td><td>a         </td><td>1270      </td><td>9         </td><td>2008      </td><td>0         </td><td>NA        </td><td>NA        </td><td>          </td></tr>\n\t<tr><td>1         </td><td>3         </td><td>2015-07-29</td><td>4782      </td><td>523       </td><td>1         </td><td>1         </td><td>0         </td><td>1         </td><td>c         </td><td>a         </td><td>1270      </td><td>9         </td><td>2008      </td><td>0         </td><td>NA        </td><td>NA        </td><td>          </td></tr>\n\t<tr><td>1         </td><td>2         </td><td>2015-07-28</td><td>5011      </td><td>560       </td><td>1         </td><td>1         </td><td>0         </td><td>1         </td><td>c         </td><td>a         </td><td>1270      </td><td>9         </td><td>2008      </td><td>0         </td><td>NA        </td><td>NA        </td><td>          </td></tr>\n\t<tr><td>1         </td><td>1         </td><td>2015-07-27</td><td>6102      </td><td>612       </td><td>1         </td><td>1         </td><td>0         </td><td>1         </td><td>c         </td><td>a         </td><td>1270      </td><td>9         </td><td>2008      </td><td>0         </td><td>NA        </td><td>NA        </td><td>          </td></tr>\n\t<tr><td>1         </td><td>7         </td><td>2015-07-26</td><td>   0      </td><td>  0       </td><td>0         </td><td>0         </td><td>0         </td><td>0         </td><td>c         </td><td>a         </td><td>1270      </td><td>9         </td><td>2008      </td><td>0         </td><td>NA        </td><td>NA        </td><td>          </td></tr>\n</tbody>\n</table>\n"
          },
          "metadata": {}
        }
      ]
    },
    {
      "metadata": {
        "_uuid": "b27764fa6b3e6e81c9f97a44b15bd62692efd2d4"
      },
      "cell_type": "markdown",
      "source": "Select the required attributes among which the association rule mining is to be carried out. "
    },
    {
      "metadata": {
        "_uuid": "b5f18131b5179c296a11932218290811a9c4b229",
        "trusted": true,
        "_cell_guid": "735cac83-d061-4762-be1e-5df5916df5cf"
      },
      "cell_type": "code",
      "source": "df <- subset(total, select = c(7, 9, 15, 4))",
      "execution_count": 357,
      "outputs": []
    },
    {
      "metadata": {
        "_uuid": "6b551205f9a8ffe7ee1a69fd2763c56b5b13ccb1",
        "trusted": true,
        "_cell_guid": "4202476b-ac81-44e2-b3cd-17236fa3a7c6"
      },
      "cell_type": "code",
      "source": "str(df)",
      "execution_count": 358,
      "outputs": [
        {
          "output_type": "stream",
          "text": "Classes ‘data.table’ and 'data.frame':\t1017209 obs. of  4 variables:\n $ Promo        : int  1 1 1 1 1 0 0 0 0 0 ...\n $ SchoolHoliday: chr  \"1\" \"1\" \"1\" \"1\" ...\n $ Promo2       : int  0 0 0 0 0 0 0 0 0 0 ...\n $ Sales        : int  5263 5020 4782 5011 6102 0 4364 3706 3769 3464 ...\n - attr(*, \".internal.selfref\")=<externalptr> \n",
          "name": "stdout"
        }
      ]
    },
    {
      "metadata": {
        "_uuid": "2f51b97b13f8a5b0574636ea6f9d014496d883fa",
        "trusted": true,
        "_cell_guid": "cf343943-a43b-484c-a0ec-add965a27521"
      },
      "cell_type": "code",
      "source": "head(df)",
      "execution_count": 359,
      "outputs": [
        {
          "output_type": "display_data",
          "data": {
            "text/plain": "  Promo SchoolHoliday Promo2 Sales\n1 1     1             0      5263 \n2 1     1             0      5020 \n3 1     1             0      4782 \n4 1     1             0      5011 \n5 1     1             0      6102 \n6 0     0             0         0 ",
            "text/latex": "\\begin{tabular}{r|llll}\n Promo & SchoolHoliday & Promo2 & Sales\\\\\n\\hline\n\t 1    & 1    & 0    & 5263\\\\\n\t 1    & 1    & 0    & 5020\\\\\n\t 1    & 1    & 0    & 4782\\\\\n\t 1    & 1    & 0    & 5011\\\\\n\t 1    & 1    & 0    & 6102\\\\\n\t 0    & 0    & 0    &    0\\\\\n\\end{tabular}\n",
            "text/markdown": "\nPromo | SchoolHoliday | Promo2 | Sales | \n|---|---|---|---|---|---|\n| 1    | 1    | 0    | 5263 | \n| 1    | 1    | 0    | 5020 | \n| 1    | 1    | 0    | 4782 | \n| 1    | 1    | 0    | 5011 | \n| 1    | 1    | 0    | 6102 | \n| 0    | 0    | 0    |    0 | \n\n\n",
            "text/html": "<table>\n<thead><tr><th scope=col>Promo</th><th scope=col>SchoolHoliday</th><th scope=col>Promo2</th><th scope=col>Sales</th></tr></thead>\n<tbody>\n\t<tr><td>1   </td><td>1   </td><td>0   </td><td>5263</td></tr>\n\t<tr><td>1   </td><td>1   </td><td>0   </td><td>5020</td></tr>\n\t<tr><td>1   </td><td>1   </td><td>0   </td><td>4782</td></tr>\n\t<tr><td>1   </td><td>1   </td><td>0   </td><td>5011</td></tr>\n\t<tr><td>1   </td><td>1   </td><td>0   </td><td>6102</td></tr>\n\t<tr><td>0   </td><td>0   </td><td>0   </td><td>   0</td></tr>\n</tbody>\n</table>\n"
          },
          "metadata": {}
        }
      ]
    },
    {
      "metadata": {
        "_uuid": "69ada0e721f2b61380d625fcfe3385f59ead7223"
      },
      "cell_type": "markdown",
      "source": "Categorize the sales variable into 3 categories based on an arbitrary threshold computed based on the mean sales value. "
    },
    {
      "metadata": {
        "_uuid": "f439c9cf86c379cf5911f363dea68f7373c3d734",
        "trusted": true,
        "_cell_guid": "1f45d447-a636-457a-830b-c2d0dba2b057"
      },
      "cell_type": "code",
      "source": "\ndf$Sale[df$Sales < 2000] <- \"low\"\ndf$Sale[df$Sales >= 2000 & df$Sales < 7000] <- \"Average\"\ndf$Sale[df$Sales >= 7000] <- \"High\"",
      "execution_count": 360,
      "outputs": []
    },
    {
      "metadata": {
        "_uuid": "fea316e10ca0d76fadc1a572569780e1540ca522",
        "trusted": true,
        "_cell_guid": "026acab0-7ea1-47d9-bf88-4381012ea11c"
      },
      "cell_type": "code",
      "source": "head(df)",
      "execution_count": 361,
      "outputs": [
        {
          "output_type": "display_data",
          "data": {
            "text/plain": "  Promo SchoolHoliday Promo2 Sales Sale   \n1 1     1             0      5263  Average\n2 1     1             0      5020  Average\n3 1     1             0      4782  Average\n4 1     1             0      5011  Average\n5 1     1             0      6102  Average\n6 0     0             0         0  low    ",
            "text/latex": "\\begin{tabular}{r|lllll}\n Promo & SchoolHoliday & Promo2 & Sales & Sale\\\\\n\\hline\n\t 1       & 1       & 0       & 5263    & Average\\\\\n\t 1       & 1       & 0       & 5020    & Average\\\\\n\t 1       & 1       & 0       & 4782    & Average\\\\\n\t 1       & 1       & 0       & 5011    & Average\\\\\n\t 1       & 1       & 0       & 6102    & Average\\\\\n\t 0       & 0       & 0       &    0    & low    \\\\\n\\end{tabular}\n",
            "text/markdown": "\nPromo | SchoolHoliday | Promo2 | Sales | Sale | \n|---|---|---|---|---|---|\n| 1       | 1       | 0       | 5263    | Average | \n| 1       | 1       | 0       | 5020    | Average | \n| 1       | 1       | 0       | 4782    | Average | \n| 1       | 1       | 0       | 5011    | Average | \n| 1       | 1       | 0       | 6102    | Average | \n| 0       | 0       | 0       |    0    | low     | \n\n\n",
            "text/html": "<table>\n<thead><tr><th scope=col>Promo</th><th scope=col>SchoolHoliday</th><th scope=col>Promo2</th><th scope=col>Sales</th><th scope=col>Sale</th></tr></thead>\n<tbody>\n\t<tr><td>1      </td><td>1      </td><td>0      </td><td>5263   </td><td>Average</td></tr>\n\t<tr><td>1      </td><td>1      </td><td>0      </td><td>5020   </td><td>Average</td></tr>\n\t<tr><td>1      </td><td>1      </td><td>0      </td><td>4782   </td><td>Average</td></tr>\n\t<tr><td>1      </td><td>1      </td><td>0      </td><td>5011   </td><td>Average</td></tr>\n\t<tr><td>1      </td><td>1      </td><td>0      </td><td>6102   </td><td>Average</td></tr>\n\t<tr><td>0      </td><td>0      </td><td>0      </td><td>   0   </td><td>low    </td></tr>\n</tbody>\n</table>\n"
          },
          "metadata": {}
        }
      ]
    },
    {
      "metadata": {
        "_uuid": "bb7ce88ec73cec0116a567358c0d63ea12598742",
        "trusted": true,
        "_cell_guid": "38d35aa8-6ef1-4d61-a99c-f77c80c7023e"
      },
      "cell_type": "code",
      "source": "df <- within(df, rm(Sales))\nhead(df)",
      "execution_count": 362,
      "outputs": [
        {
          "output_type": "display_data",
          "data": {
            "text/plain": "  Promo SchoolHoliday Promo2 Sale   \n1 1     1             0      Average\n2 1     1             0      Average\n3 1     1             0      Average\n4 1     1             0      Average\n5 1     1             0      Average\n6 0     0             0      low    ",
            "text/latex": "\\begin{tabular}{r|llll}\n Promo & SchoolHoliday & Promo2 & Sale\\\\\n\\hline\n\t 1       & 1       & 0       & Average\\\\\n\t 1       & 1       & 0       & Average\\\\\n\t 1       & 1       & 0       & Average\\\\\n\t 1       & 1       & 0       & Average\\\\\n\t 1       & 1       & 0       & Average\\\\\n\t 0       & 0       & 0       & low    \\\\\n\\end{tabular}\n",
            "text/markdown": "\nPromo | SchoolHoliday | Promo2 | Sale | \n|---|---|---|---|---|---|\n| 1       | 1       | 0       | Average | \n| 1       | 1       | 0       | Average | \n| 1       | 1       | 0       | Average | \n| 1       | 1       | 0       | Average | \n| 1       | 1       | 0       | Average | \n| 0       | 0       | 0       | low     | \n\n\n",
            "text/html": "<table>\n<thead><tr><th scope=col>Promo</th><th scope=col>SchoolHoliday</th><th scope=col>Promo2</th><th scope=col>Sale</th></tr></thead>\n<tbody>\n\t<tr><td>1      </td><td>1      </td><td>0      </td><td>Average</td></tr>\n\t<tr><td>1      </td><td>1      </td><td>0      </td><td>Average</td></tr>\n\t<tr><td>1      </td><td>1      </td><td>0      </td><td>Average</td></tr>\n\t<tr><td>1      </td><td>1      </td><td>0      </td><td>Average</td></tr>\n\t<tr><td>1      </td><td>1      </td><td>0      </td><td>Average</td></tr>\n\t<tr><td>0      </td><td>0      </td><td>0      </td><td>low    </td></tr>\n</tbody>\n</table>\n"
          },
          "metadata": {}
        }
      ]
    },
    {
      "metadata": {
        "_uuid": "b0bf2b99c7a4bb8bd232b1b8b1c7ae39a1a2397d"
      },
      "cell_type": "markdown",
      "source": "The dataframe is converted into an itemset(transaction) form. Apriori algorithm is applied to mine the rules and we focus only on those rules where sales value is in the rhs. "
    },
    {
      "metadata": {
        "_uuid": "5e1e46a3d67c474466f2f73d6fb51328a78f6735",
        "trusted": true,
        "_cell_guid": "cd99c77b-d994-4e38-a775-96545f075783"
      },
      "cell_type": "code",
      "source": "df <- as.data.frame(df)\ndf <- df[complete.cases(df),]\ndf$Promo <-as.factor(df$Promo)\ndf$SchoolHoliday <-as.factor(df$SchoolHoliday)\ndf$Promo2 <-as.factor(df$Promo2)\ndf$Sale <-as.factor(df$Sale)\nstr(df)\ntrans <- as(df, \"transactions\")\nrules <- apriori(trans, parameter = list(supp = 0.10, conf = 0.50, minlen=2), appearance = list(rhs=c(\"Sale=Average\", \"Sale=High\", \"Sale=low\"), default=\"lhs\"))",
      "execution_count": 363,
      "outputs": [
        {
          "output_type": "stream",
          "text": "'data.frame':\t1017209 obs. of  4 variables:\n $ Promo        : Factor w/ 2 levels \"0\",\"1\": 2 2 2 2 2 1 1 1 1 1 ...\n $ SchoolHoliday: Factor w/ 2 levels \"0\",\"1\": 2 2 2 2 2 1 1 1 1 1 ...\n $ Promo2       : Factor w/ 2 levels \"0\",\"1\": 1 1 1 1 1 1 1 1 1 1 ...\n $ Sale         : Factor w/ 3 levels \"Average\",\"High\",..: 1 1 1 1 1 3 1 1 1 1 ...\nApriori\n\nParameter specification:\n confidence minval smax arem  aval originalSupport maxtime support minlen\n        0.5    0.1    1 none FALSE            TRUE       5     0.1      2\n maxlen target   ext\n     10  rules FALSE\n\nAlgorithmic control:\n filter tree heap memopt load sort verbose\n    0.1 TRUE TRUE  FALSE TRUE    2    TRUE\n\nAbsolute minimum support count: 101720 \n\nset item appearances ...[3 item(s)] done [0.00s].\nset transactions ...[9 item(s), 1017209 transaction(s)] done [0.13s].\nsorting and recoding items ... [9 item(s)] done [0.02s].\ncreating transaction tree ... done [0.55s].\nchecking subsets of size 1 2 3 4 done [0.00s].\nwriting ... [11 rule(s)] done [0.00s].\ncreating S4 object  ... done [0.16s].\n",
          "name": "stdout"
        }
      ]
    },
    {
      "metadata": {
        "_uuid": "e9c50180a3a2519a9847495baa9098568dcbacd6"
      },
      "cell_type": "markdown",
      "source": "The rules are listed in the decreasing order of confidence."
    },
    {
      "metadata": {
        "trusted": true,
        "_uuid": "73dc6bcbdd2a24fb7d503fc5ab8a72a2375eb868"
      },
      "cell_type": "code",
      "source": "\nrules <- sort(rules, by = \"lift\", decreasing='true')\ninspect(rules)",
      "execution_count": 364,
      "outputs": [
        {
          "output_type": "stream",
          "text": "     lhs                                   rhs            support   confidence\n[1]  {Promo=1,Promo2=0}                 => {Sale=High}    0.1201081 0.6295604 \n[2]  {Promo=1}                          => {Sale=High}    0.2232884 0.5852685 \n[3]  {Promo=1,SchoolHoliday=0}          => {Sale=High}    0.1758744 0.5846858 \n[4]  {Promo=1,Promo2=1}                 => {Sale=High}    0.1031804 0.5409657 \n[5]  {Promo=0,Promo2=1}                 => {Sale=Average} 0.1809618 0.5840679 \n[6]  {Promo=0,SchoolHoliday=0,Promo2=1} => {Sale=Average} 0.1482989 0.5674888 \n[7]  {Promo=0}                          => {Sale=Average} 0.3389618 0.5480514 \n[8]  {Promo=0,SchoolHoliday=0}          => {Sale=Average} 0.2779016 0.5338596 \n[9]  {Promo2=1}                         => {Sale=Average} 0.2623325 0.5240741 \n[10] {SchoolHoliday=0,Promo2=1}         => {Sale=Average} 0.2143453 0.5196718 \n[11] {Promo=0,Promo2=0}                 => {Sale=Average} 0.1580000 0.5118977 \n     lift     count \n[1]  1.860244 122175\n[2]  1.729369 227131\n[3]  1.727647 178901\n[4]  1.598462 104956\n[5]  1.201860 184076\n[6]  1.167745 150851\n[7]  1.127747 344795\n[8]  1.098544 282684\n[9]  1.078408 266847\n[10] 1.069350 218034\n[11] 1.053353 160719\n",
          "name": "stdout"
        }
      ]
    },
    {
      "metadata": {
        "_uuid": "85efc8d1d1ff99de943086f6cb59c1580c45f92d",
        "_cell_guid": "61a5a05a-ea1a-44d6-9dd9-e2c0ede6fa99"
      },
      "cell_type": "markdown",
      "source": " These rules are dependent on support and confidence.These counting of these rules can be changed by changing the values of support and confidence by trial and error method.\n\n**Support:** Support is the basic probability of an event to occur. If we have an event to buy product A, Support(A) is the number of transactions which includes A divided by total number of transactions.\n\n**Confidence:** The confidence of an event is the conditional probability of the occurrence; the chances of A happening given B has already happened.\n"
    }
  ],
  "metadata": {
    "kernelspec": {
      "display_name": "R",
      "language": "R",
      "name": "ir"
    },
    "language_info": {
      "mimetype": "text/x-r-source",
      "name": "R",
      "pygments_lexer": "r",
      "version": "3.4.2",
      "file_extension": ".r",
      "codemirror_mode": "r"
    }
  },
  "nbformat": 4,
  "nbformat_minor": 1
}
