{
  "cells": [
    {
      "metadata": {
        "_uuid": "325b5a0fa4d64422eb16ba546fb3ecaa4e7bf0f8",
        "trusted": false,
        "_cell_guid": "55b16196-5e73-49c1-a561-2e662d8c3ce1"
      },
      "cell_type": "code",
      "source": "# This R environment comes with all of CRAN preinstalled, as well as many other helpful packages\n# The environment is defined by the kaggle/rstats docker image: https://github.com/kaggle/docker-rstats\n# For example, here's several helpful packages to load in \n\nlibrary(ggplot2) # Data visualization\nlibrary(readr) # CSV file I/O, e.g. the read_csv function\n\n# Input data files are available in the \"../input/\" directory.\n# For example, running this (by clicking run or pressing Shift+Enter) will list the files in the input directory\n\nsystem(\"ls ../input\")\n\n# Any results you write to the current directory are saved as output.",
      "execution_count": null,
      "outputs": []
    },
    {
      "metadata": {
        "_uuid": "959a4b070d227cbcc23157bbfcf782000062fab2",
        "trusted": false,
        "_cell_guid": "622da766-7886-4e6f-ae51-5b7df84945b2"
      },
      "cell_type": "code",
      "source": "library(arules)\nlibrary(arulesViz)\nlibrary(data.table)\nlibrary(zoo)\nlibrary(forecast)\nlibrary(ggplot2)\ntest <- fread(\"../input/test.csv\")\ntrain <- fread(\"../input/train.csv\")\nstore <- fread(\"../input/store.csv\")",
      "execution_count": null,
      "outputs": []
    },
    {
      "metadata": {
        "_uuid": "fda0d642ccb65310aa17174b097f07a1481b63fe",
        "trusted": false,
        "_cell_guid": "5b4e6146-43c2-4d89-bea2-89035e509a8a"
      },
      "cell_type": "code",
      "source": "str(train)\n",
      "execution_count": null,
      "outputs": []
    },
    {
      "metadata": {
        "_uuid": "e65b70bde49581c81888d5038e1d543eab6c72bf",
        "trusted": false,
        "_cell_guid": "cc4e4bb0-e975-4da6-b4a9-6fff2c1f9129"
      },
      "cell_type": "code",
      "source": "str(store)",
      "execution_count": null,
      "outputs": []
    },
    {
      "metadata": {
        "_uuid": "75d081b7ae710035beb01d8a620b96531a19a0e2",
        "trusted": false,
        "_cell_guid": "dacfa076-ab6f-4214-9690-786654a2b24c"
      },
      "cell_type": "code",
      "source": "summary(train)",
      "execution_count": null,
      "outputs": []
    },
    {
      "metadata": {
        "_uuid": "277aba96d126909ac216019b848ac17e97e34c13",
        "trusted": false,
        "_cell_guid": "de7b036d-940c-4622-84b4-749bba3f0bfc"
      },
      "cell_type": "code",
      "source": "total <-merge(train, store, by=\"Store\")\nhead(total)",
      "execution_count": null,
      "outputs": []
    },
    {
      "metadata": {
        "_uuid": "b5f18131b5179c296a11932218290811a9c4b229",
        "trusted": false,
        "_cell_guid": "735cac83-d061-4762-be1e-5df5916df5cf"
      },
      "cell_type": "code",
      "source": "df <- subset(total, select = c(7, 9, 15, 4))",
      "execution_count": null,
      "outputs": []
    },
    {
      "metadata": {
        "_uuid": "6b551205f9a8ffe7ee1a69fd2763c56b5b13ccb1",
        "trusted": false,
        "_cell_guid": "4202476b-ac81-44e2-b3cd-17236fa3a7c6"
      },
      "cell_type": "code",
      "source": "str(df)",
      "execution_count": null,
      "outputs": []
    },
    {
      "metadata": {
        "_uuid": "2f51b97b13f8a5b0574636ea6f9d014496d883fa",
        "trusted": false,
        "_cell_guid": "cf343943-a43b-484c-a0ec-add965a27521"
      },
      "cell_type": "code",
      "source": "head(df)",
      "execution_count": null,
      "outputs": []
    },
    {
      "metadata": {
        "_uuid": "f439c9cf86c379cf5911f363dea68f7373c3d734",
        "trusted": false,
        "_cell_guid": "1f45d447-a636-457a-830b-c2d0dba2b057"
      },
      "cell_type": "code",
      "source": "# These Threshold i have according to mean value os sales\ndf$Sale[df$Sales < 2000] <- \"low\"\ndf$Sale[df$Sales >= 2000 & df$Sales < 7000] <- \"Average\"\ndf$Sale[df$Sales >= 7000] <- \"High\"",
      "execution_count": null,
      "outputs": []
    },
    {
      "metadata": {
        "_uuid": "fea316e10ca0d76fadc1a572569780e1540ca522",
        "trusted": false,
        "_cell_guid": "026acab0-7ea1-47d9-bf88-4381012ea11c"
      },
      "cell_type": "code",
      "source": "head(df)",
      "execution_count": null,
      "outputs": []
    },
    {
      "metadata": {
        "_uuid": "bb7ce88ec73cec0116a567358c0d63ea12598742",
        "trusted": false,
        "_cell_guid": "38d35aa8-6ef1-4d61-a99c-f77c80c7023e"
      },
      "cell_type": "code",
      "source": "df <- within(df, rm(Sales))\nhead(df)",
      "execution_count": null,
      "outputs": []
    },
    {
      "metadata": {
        "_uuid": "5e1e46a3d67c474466f2f73d6fb51328a78f6735",
        "trusted": false,
        "_cell_guid": "cd99c77b-d994-4e38-a775-96545f075783"
      },
      "cell_type": "code",
      "source": "df <- as.data.frame(df)\ndf <- df[complete.cases(df),]\ndf$Promo <-as.factor(df$Promo)\ndf$SchoolHoliday <-as.factor(df$SchoolHoliday)\ndf$Promo2 <-as.factor(df$Promo2)\ndf$Sale <-as.factor(df$Sale)\nstr(df)\ntrans <- as(df, \"transactions\")\nrules <- apriori(trans, parameter = list(supp = 0.090, conf = 0.15), appearance = list(rhs=c(\"Sale=Average\", \"Sale=High\", \"Sale=low\"), \n                                     default=\"lhs\"))",
      "execution_count": null,
      "outputs": []
    },
    {
      "metadata": {
        "_uuid": "85efc8d1d1ff99de943086f6cb59c1580c45f92d",
        "_cell_guid": "61a5a05a-ea1a-44d6-9dd9-e2c0ede6fa99"
      },
      "cell_type": "markdown",
      "source": "Total we have made 32 rules. These rules are dependent on support and confidence.These counting of these rules can be changed by changing the values of support and confidence by trial and error method.\n\n**Support:** Support is the basic probability of an event to occur. If we have an event to buy product A, Support(A) is the number of transactions which includes A divided by total number of transactions.\n\n**Confidence:** The confidence of an event is the conditional probability of the occurrence; the chances of A happening given B has already happened.\n\n**Lift:** This is the ratio of confidence to expected confidence.The probability of all of the items in a rule occurring together (otherwise known as the support) divided by the product of the probabilities of the items on the left and right side occurring as if there was no association between them.\n\nThe lift value tells us how much better a rule is at predicting something than randomly guessing. The higher the lift, the stronger the association."
    },
    {
      "metadata": {
        "_uuid": "cd1635a6fc77e4da8013a2de82468b233128012a",
        "trusted": false,
        "_cell_guid": "16a2dc66-6839-440e-baa1-26b3ae2fee3b"
      },
      "cell_type": "code",
      "source": "rules <- sort(rules, by = \"lift\", decreasing='true')\nhead(inspect(rules))",
      "execution_count": null,
      "outputs": []
    },
    {
      "metadata": {
        "_uuid": "608314e8794083bbd032251e2a8256c30ed913f2",
        "trusted": false,
        "_cell_guid": "c06f63ca-42ac-43fb-9c6b-20fa6e292d1a"
      },
      "cell_type": "code",
      "source": "itemFrequencyPlot(trans, topN = 9)",
      "execution_count": null,
      "outputs": []
    },
    {
      "metadata": {
        "_uuid": "512e2ecefd0d56e3ee74dcb3b37c8e378ba1bb22",
        "_cell_guid": "fe363967-09eb-4a4e-86cf-2f2920b2b850"
      },
      "cell_type": "markdown",
      "source": "The above visulization shows the frequency of item set like frequency of Promo2 is more than Promo etc."
    },
    {
      "metadata": {
        "_uuid": "9cc87f17560257f4488a25ca48ef5627eb0d907f",
        "trusted": false,
        "_cell_guid": "0abb0097-feb9-404b-9fec-a7d92759bbb3"
      },
      "cell_type": "code",
      "source": "plot(rules[1:20],\nmethod = \"graph\",\ncontrol = list(type = \"rules\"))",
      "execution_count": null,
      "outputs": []
    },
    {
      "metadata": {
        "_uuid": "cf7eb87ee3cfeba022f56ecc383dafb9eadc4e69",
        "_cell_guid": "2ae29c84-e2db-4a1a-a429-0a2875b69693"
      },
      "cell_type": "markdown",
      "source": "This representation gives us a graph model of items in our dataset.\n\nThe size of graph nodes is based on support levels and the colour on lift ratios. The incoming lines show the Antecedants or the LHS and the RHS is represented by names of items\n\nThe above graph shows us that most of our transactions were consolidated around **Promo** and .**Sale = high** . This means that when we doing **Promo*** our sale will go high. But in previous visulazation we have done less **Promo** than **Promo2**. So, we can increase **Promo** ,sale will go high."
    },
    {
      "metadata": {
        "_uuid": "7c5da5acb0f6ceb534e2fca337ea0f42e51cf541",
        "trusted": false,
        "_cell_guid": "42b53e77-1d8a-49ee-b29d-02bc61281413"
      },
      "cell_type": "code",
      "source": "",
      "execution_count": null,
      "outputs": []
    }
  ],
  "metadata": {
    "kernelspec": {
      "display_name": "R",
      "language": "R",
      "name": "ir"
    },
    "language_info": {
      "mimetype": "text/x-r-source",
      "version": "3.4.2",
      "name": "R",
      "pygments_lexer": "r",
      "file_extension": ".r",
      "codemirror_mode": "r"
    }
  },
  "nbformat": 4,
  "nbformat_minor": 1
}